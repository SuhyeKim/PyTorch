{
 "cells": [
  {
   "cell_type": "markdown",
   "metadata": {},
   "source": [
    "# Day 4\n",
    "Multivariate Linear Regression"
   ]
  },
  {
   "cell_type": "markdown",
   "metadata": {},
   "source": [
    "https://wikidocs.net/53560"
   ]
  },
  {
   "cell_type": "markdown",
   "metadata": {},
   "source": [
    "엄청난 양의 데이터를 한 번에 학습시킬 수 없다. 그것을 극복하기 위하여 나온 방식이 <br>\n",
    "### Minibatch Gradient Descent\n",
    "\n",
    "전체 데이터의 모든 cost를 구한 후에 gradient descent를 하지 않고 \n",
    "\n",
    "minibatch에 있는 데이터의 cost만 계산한 후에 gradient descent할 수 있기 때문에 컴퓨터에 부하가 덜 걸린다.\n",
    "\n",
    "이를 통하여 한 번 업데이트 하는데 걸린 시간이 줄어들 수 있다. <br>\n",
    "그러나 모델의 cost를 계산할 때 전체 데이터를 학습하지 않게 되므로 <br>\n",
    "모델이 가끔 잘못된 방향으로 학습할 수 있기 때문에 기존 gradient descent처럼 매끄럽게 cost가 줄어들지 않고 좀 더 거칠게 줄어들게 된다."
   ]
  },
  {
   "cell_type": "markdown",
   "metadata": {},
   "source": [
    "## Imports"
   ]
  },
  {
   "cell_type": "code",
   "execution_count": 84,
   "metadata": {},
   "outputs": [],
   "source": [
    "import torch\n",
    "import numpy as np\n",
    "import torch.nn as nn\n",
    "import torch.nn.functional as F\n",
    "import torch.optim as optim\n",
    "from torch.utils.data import TensorDataset # pytorch 에서 제공해주는 모듈\n",
    "from torch.utils.data import DataLoader"
   ]
  },
  {
   "cell_type": "code",
   "execution_count": 85,
   "metadata": {},
   "outputs": [],
   "source": [
    "x_train = torch.FloatTensor([[73, 80, 75],\n",
    "                             [93, 88, 93],\n",
    "                             [89, 91, 90],\n",
    "                             [96, 98, 100],\n",
    "                             [73, 66, 70]])\n",
    "y_train = torch.FloatTensor([[152], [185], [180], [196], [142]])"
   ]
  },
  {
   "cell_type": "code",
   "execution_count": 86,
   "metadata": {},
   "outputs": [],
   "source": [
    "dataset = TensorDataset(x_train, y_train)"
   ]
  },
  {
   "cell_type": "code",
   "execution_count": 87,
   "metadata": {},
   "outputs": [],
   "source": [
    "# # torch.utils.data.Dataset 상속\n",
    "# class CustomDataset(Dataset):\n",
    "#     def __init__(self):\n",
    "#         self.x_data = [[73, 80, 75,\n",
    "#                         93, 88, 93,\n",
    "#                         89, 91, 90,\n",
    "#                         96, 98, 100,\n",
    "#                         73, 66, 70]]\n",
    "#         self.y_data = [[152,\n",
    "#                         185,\n",
    "#                         180,\n",
    "#                         196,\n",
    "#                         142]]\n",
    "    \n",
    "#     # 이 데이터셋의 총 데이터 수\n",
    "#     def __len__(self):\n",
    "#         return len(self.x_data)\n",
    "    \n",
    "#     # 어떠한 인덱스 idx를 받았을 때, 그에 상응하는 입출력 데이터 반환\n",
    "#     def __getitem__(self,idx):\n",
    "#         x = torch.FloatTensor(self.x_data[idx])\n",
    "#         y = torch.FloatTensor(self.y_data[idx])\n",
    "\n",
    "#         return x, y\n"
   ]
  },
  {
   "cell_type": "code",
   "execution_count": 88,
   "metadata": {},
   "outputs": [],
   "source": [
    "# dataset = CustomDataset()"
   ]
  },
  {
   "cell_type": "code",
   "execution_count": 89,
   "metadata": {},
   "outputs": [],
   "source": [
    "# print(dataset)"
   ]
  },
  {
   "cell_type": "code",
   "execution_count": 90,
   "metadata": {},
   "outputs": [],
   "source": [
    "dataloader = DataLoader(\n",
    "    dataset,\n",
    "    batch_size=2, \n",
    "    shuffle = True\n",
    ")\n"
   ]
  },
  {
   "cell_type": "markdown",
   "metadata": {},
   "source": [
    "batch_size<br>\n",
    "    - minibatch의 크기<br>\n",
    "    - 통상적으로 2의 제곱수로 설정한다.<br>\n",
    "\n",
    "shuffle=True<br>\n",
    "    - epoch 마다 데이터셋을 섞어서 데이터가 학습되는 순서를 바꾼다<br>\n",
    "    - 모델이 순서를 학습하지 못하도록 해주는 역할이므로 반드시 [True]로 설정한다"
   ]
  },
  {
   "cell_type": "code",
   "execution_count": 91,
   "metadata": {},
   "outputs": [
    {
     "name": "stdout",
     "output_type": "stream",
     "text": [
      "<torch.utils.data.dataloader.DataLoader object at 0x14a58e640>\n"
     ]
    }
   ],
   "source": [
    "print(dataloader)"
   ]
  },
  {
   "cell_type": "code",
   "execution_count": 92,
   "metadata": {},
   "outputs": [],
   "source": [
    "# class MultivariateLinearRegressionModel(nn.Module):\n",
    "#     def __init__(self):\n",
    "#         super().__init__()\n",
    "#         self.linear = nn.Linear(3, 1)\n",
    "\n",
    "#     def forward(self, x):\n",
    "#         return self.linear(x)"
   ]
  },
  {
   "cell_type": "code",
   "execution_count": 93,
   "metadata": {},
   "outputs": [],
   "source": [
    "# 모델 초기화\n",
    "model = nn.Linear(3,1)\n",
    "\n",
    "# optimizer\n",
    "optimizer = optim.SGD(model.parameters(), lr=1e-5)"
   ]
  },
  {
   "cell_type": "code",
   "execution_count": 100,
   "metadata": {},
   "outputs": [
    {
     "name": "stdout",
     "output_type": "stream",
     "text": [
      "\n",
      " 0\n",
      "Epoch   0/20 Batch 1/3 Cost: 0.870665\n",
      "\n",
      " 1\n",
      "Epoch   0/20 Batch 2/3 Cost: 1.108827\n",
      "\n",
      " 2\n",
      "Epoch   0/20 Batch 3/3 Cost: 3.092427\n",
      "\n",
      " 0\n",
      "Epoch   1/20 Batch 1/3 Cost: 0.835575\n",
      "\n",
      " 1\n",
      "Epoch   1/20 Batch 2/3 Cost: 0.873663\n",
      "\n",
      " 2\n",
      "Epoch   1/20 Batch 3/3 Cost: 3.286871\n",
      "\n",
      " 0\n",
      "Epoch   2/20 Batch 1/3 Cost: 2.202824\n",
      "\n",
      " 1\n",
      "Epoch   2/20 Batch 2/3 Cost: 0.734755\n",
      "\n",
      " 2\n",
      "Epoch   2/20 Batch 3/3 Cost: 1.485723\n",
      "\n",
      " 0\n",
      "Epoch   3/20 Batch 1/3 Cost: 0.185386\n",
      "\n",
      " 1\n",
      "Epoch   3/20 Batch 2/3 Cost: 2.483212\n",
      "\n",
      " 2\n",
      "Epoch   3/20 Batch 3/3 Cost: 0.543888\n",
      "\n",
      " 0\n",
      "Epoch   4/20 Batch 1/3 Cost: 0.561790\n",
      "\n",
      " 1\n",
      "Epoch   4/20 Batch 2/3 Cost: 1.310358\n",
      "\n",
      " 2\n",
      "Epoch   4/20 Batch 3/3 Cost: 4.128643\n",
      "\n",
      " 0\n",
      "Epoch   5/20 Batch 1/3 Cost: 0.522182\n",
      "\n",
      " 1\n",
      "Epoch   5/20 Batch 2/3 Cost: 2.399729\n",
      "\n",
      " 2\n",
      "Epoch   5/20 Batch 3/3 Cost: 0.004944\n",
      "\n",
      " 0\n",
      "Epoch   6/20 Batch 1/3 Cost: 1.512072\n",
      "\n",
      " 1\n",
      "Epoch   6/20 Batch 2/3 Cost: 0.742259\n",
      "\n",
      " 2\n",
      "Epoch   6/20 Batch 3/3 Cost: 2.534255\n",
      "\n",
      " 0\n",
      "Epoch   7/20 Batch 1/3 Cost: 2.332011\n",
      "\n",
      " 1\n",
      "Epoch   7/20 Batch 2/3 Cost: 0.681347\n",
      "\n",
      " 2\n",
      "Epoch   7/20 Batch 3/3 Cost: 1.545609\n",
      "\n",
      " 0\n",
      "Epoch   8/20 Batch 1/3 Cost: 1.375439\n",
      "\n",
      " 1\n",
      "Epoch   8/20 Batch 2/3 Cost: 0.150400\n",
      "\n",
      " 2\n",
      "Epoch   8/20 Batch 3/3 Cost: 3.251887\n",
      "\n",
      " 0\n",
      "Epoch   9/20 Batch 1/3 Cost: 0.654698\n",
      "\n",
      " 1\n",
      "Epoch   9/20 Batch 2/3 Cost: 1.389234\n",
      "\n",
      " 2\n",
      "Epoch   9/20 Batch 3/3 Cost: 3.008321\n",
      "\n",
      " 0\n",
      "Epoch  10/20 Batch 1/3 Cost: 1.434614\n",
      "\n",
      " 1\n",
      "Epoch  10/20 Batch 2/3 Cost: 1.891539\n",
      "\n",
      " 2\n",
      "Epoch  10/20 Batch 3/3 Cost: 0.705158\n",
      "\n",
      " 0\n",
      "Epoch  11/20 Batch 1/3 Cost: 0.546073\n",
      "\n",
      " 1\n",
      "Epoch  11/20 Batch 2/3 Cost: 2.404802\n",
      "\n",
      " 2\n",
      "Epoch  11/20 Batch 3/3 Cost: 0.003931\n",
      "\n",
      " 0\n",
      "Epoch  12/20 Batch 1/3 Cost: 2.344491\n",
      "\n",
      " 1\n",
      "Epoch  12/20 Batch 2/3 Cost: 0.482359\n",
      "\n",
      " 2\n",
      "Epoch  12/20 Batch 3/3 Cost: 0.007575\n",
      "\n",
      " 0\n",
      "Epoch  13/20 Batch 1/3 Cost: 1.301972\n",
      "\n",
      " 1\n",
      "Epoch  13/20 Batch 2/3 Cost: 2.184655\n",
      "\n",
      " 2\n",
      "Epoch  13/20 Batch 3/3 Cost: 0.571439\n",
      "\n",
      " 0\n",
      "Epoch  14/20 Batch 1/3 Cost: 0.091602\n",
      "\n",
      " 1\n",
      "Epoch  14/20 Batch 2/3 Cost: 2.577039\n",
      "\n",
      " 2\n",
      "Epoch  14/20 Batch 3/3 Cost: 0.649931\n",
      "\n",
      " 0\n",
      "Epoch  15/20 Batch 1/3 Cost: 1.673268\n",
      "\n",
      " 1\n",
      "Epoch  15/20 Batch 2/3 Cost: 1.601671\n",
      "\n",
      " 2\n",
      "Epoch  15/20 Batch 3/3 Cost: 1.418031\n",
      "\n",
      " 0\n",
      "Epoch  16/20 Batch 1/3 Cost: 1.215404\n",
      "\n",
      " 1\n",
      "Epoch  16/20 Batch 2/3 Cost: 2.215944\n",
      "\n",
      " 2\n",
      "Epoch  16/20 Batch 3/3 Cost: 0.925602\n",
      "\n",
      " 0\n",
      "Epoch  17/20 Batch 1/3 Cost: 0.513400\n",
      "\n",
      " 1\n",
      "Epoch  17/20 Batch 2/3 Cost: 0.925913\n",
      "\n",
      " 2\n",
      "Epoch  17/20 Batch 3/3 Cost: 3.688737\n",
      "\n",
      " 0\n",
      "Epoch  18/20 Batch 1/3 Cost: 0.092120\n",
      "\n",
      " 1\n",
      "Epoch  18/20 Batch 2/3 Cost: 2.564450\n",
      "\n",
      " 2\n",
      "Epoch  18/20 Batch 3/3 Cost: 0.642424\n",
      "\n",
      " 0\n",
      "Epoch  19/20 Batch 1/3 Cost: 2.295600\n",
      "\n",
      " 1\n",
      "Epoch  19/20 Batch 2/3 Cost: 0.533728\n",
      "\n",
      " 2\n",
      "Epoch  19/20 Batch 3/3 Cost: 0.027157\n",
      "\n",
      " 0\n",
      "Epoch  20/20 Batch 1/3 Cost: 0.984542\n",
      "\n",
      " 1\n",
      "Epoch  20/20 Batch 2/3 Cost: 1.845975\n",
      "\n",
      " 2\n",
      "Epoch  20/20 Batch 3/3 Cost: 0.641422\n"
     ]
    }
   ],
   "source": [
    "nb_epochs = 20\n",
    "\n",
    "for epoch in range(nb_epochs + 1):\n",
    "    for batch_idx, samples in enumerate(dataloader):\n",
    "        print('\\n',batch_idx)\n",
    "        # print(samples)\n",
    "\n",
    "        x_train, y_train = samples\n",
    "\n",
    "        # H(x) 계산\n",
    "        prediction = model(x_train)\n",
    "\n",
    "        # cost 계산\n",
    "        cost = F.mse_loss(prediction, y_train)\n",
    "\n",
    "        # cost로 H(x) 개선\n",
    "        optimizer.zero_grad()\n",
    "        cost.backward()\n",
    "        optimizer.step()\n",
    "\n",
    "        print('Epoch{:4d}/{} Batch {}/{} Cost: {:.6f}'\n",
    "              .format(epoch, nb_epochs, batch_idx+1, len(dataloader), cost.item()))\n",
    "        \n",
    "        "
   ]
  },
  {
   "cell_type": "code",
   "execution_count": 101,
   "metadata": {},
   "outputs": [
    {
     "name": "stdout",
     "output_type": "stream",
     "text": [
      "훈련 후 입력이 73, 80, 75일 때의 예측값 : tensor([[152.1742]], grad_fn=<AddmmBackward0>)\n"
     ]
    }
   ],
   "source": [
    "# 임의의 입력 [73, 80, 75]를 선언\n",
    "new_var =  torch.FloatTensor([[73, 80, 75]]) \n",
    "# 입력한 값 [73, 80, 75]에 대해서 예측값 y를 리턴받아서 pred_y에 저장\n",
    "pred_y = model(new_var) \n",
    "print(\"훈련 후 입력이 73, 80, 75일 때의 예측값 :\", pred_y) "
   ]
  },
  {
   "cell_type": "markdown",
   "metadata": {},
   "source": [
    "### enumerate()"
   ]
  },
  {
   "cell_type": "code",
   "execution_count": 15,
   "metadata": {},
   "outputs": [
    {
     "name": "stdout",
     "output_type": "stream",
     "text": [
      "101 A\n",
      "102 B\n",
      "103 C\n"
     ]
    }
   ],
   "source": [
    "# enumerate()\n",
    "# 인자로 넘어온 목록을 기준으로 인덱스와 원소를 차례대로 접근하게 해주는 반복자 객체를 반환해주는 함수.\n",
    "for i, letter in enumerate(['A','B','C'], start = 101):\n",
    "    print(i,letter)"
   ]
  },
  {
   "cell_type": "code",
   "execution_count": 24,
   "metadata": {},
   "outputs": [
    {
     "name": "stdout",
     "output_type": "stream",
     "text": [
      "(3, 3)\n",
      "0 0 A\n",
      "0 1 B\n",
      "0 2 C\n",
      "1 0 D\n",
      "1 1 E\n",
      "1 2 F\n",
      "2 0 G\n",
      "2 1 H\n",
      "2 2 I\n"
     ]
    }
   ],
   "source": [
    "matrix = [['A','B','C'],\n",
    "          ['D','E','F'],\n",
    "          ['G','H','I']]\n",
    "\n",
    "print(np.shape(matrix))\n",
    "\n",
    "# 행과 열의 인덱스로 데이터를 읽도록 작성할 때\n",
    "for r in range(len(matrix)):\n",
    "    for c in range(len(matrix[r])):\n",
    "        print(r,c,matrix[r][c])"
   ]
  },
  {
   "cell_type": "code",
   "execution_count": 40,
   "metadata": {},
   "outputs": [
    {
     "name": "stdout",
     "output_type": "stream",
     "text": [
      "row:  ['A', 'B', 'C']\n",
      "0 0 A\n",
      "0 1 B\n",
      "0 2 C\n",
      "row:  ['D', 'E', 'F']\n",
      "1 0 D\n",
      "1 1 E\n",
      "1 2 F\n",
      "row:  ['G', 'H', 'I']\n",
      "2 0 G\n",
      "2 1 H\n",
      "2 2 I\n"
     ]
    }
   ],
   "source": [
    "for r, row in enumerate(matrix):\n",
    "    print('row: ', row)\n",
    "    \n",
    "    for c, letter in enumerate(row):\n",
    "        print(r,c,letter)"
   ]
  },
  {
   "cell_type": "code",
   "execution_count": 43,
   "metadata": {},
   "outputs": [
    {
     "data": {
      "text/plain": [
       "['A', 'B', 'C']"
      ]
     },
     "execution_count": 43,
     "metadata": {},
     "output_type": "execute_result"
    }
   ],
   "source": [
    "matrix[0]"
   ]
  },
  {
   "cell_type": "code",
   "execution_count": 47,
   "metadata": {},
   "outputs": [
    {
     "name": "stdout",
     "output_type": "stream",
     "text": [
      "(2, 2, 3)\n"
     ]
    }
   ],
   "source": [
    "tmp_mat = [[[1,2,3],\n",
    "            [4,5,6]],\n",
    "            \n",
    "           [[7,8,9],\n",
    "            [10,11,12]]]\n",
    "print(np.shape(tmp_mat))"
   ]
  },
  {
   "cell_type": "code",
   "execution_count": 49,
   "metadata": {},
   "outputs": [
    {
     "data": {
      "text/plain": [
       "[1, 2, 3]"
      ]
     },
     "execution_count": 49,
     "metadata": {},
     "output_type": "execute_result"
    }
   ],
   "source": [
    "tmp_mat[0][0]"
   ]
  },
  {
   "cell_type": "code",
   "execution_count": 50,
   "metadata": {},
   "outputs": [
    {
     "name": "stdout",
     "output_type": "stream",
     "text": [
      "row:  [[1, 2, 3], [4, 5, 6]]\n",
      "0 0 [1, 2, 3]\n",
      "0 1 [4, 5, 6]\n",
      "row:  [[7, 8, 9], [10, 11, 12]]\n",
      "1 0 [7, 8, 9]\n",
      "1 1 [10, 11, 12]\n"
     ]
    }
   ],
   "source": [
    "for r, row in enumerate(tmp_mat):\n",
    "    print('row: ', row)\n",
    "    \n",
    "    for c, letter in enumerate(row):\n",
    "        print(r,c,letter)"
   ]
  },
  {
   "cell_type": "code",
   "execution_count": 52,
   "metadata": {},
   "outputs": [
    {
     "name": "stdout",
     "output_type": "stream",
     "text": [
      "row:  [[1, 2, 3], [4, 5, 6]]\n",
      "mat:  [1, 2, 3]\n",
      "0 0 0 1\n",
      "0 0 1 2\n",
      "0 0 2 3\n",
      "mat:  [4, 5, 6]\n",
      "0 1 0 4\n",
      "0 1 1 5\n",
      "0 1 2 6\n",
      "row:  [[7, 8, 9], [10, 11, 12]]\n",
      "mat:  [7, 8, 9]\n",
      "1 0 0 7\n",
      "1 0 1 8\n",
      "1 0 2 9\n",
      "mat:  [10, 11, 12]\n",
      "1 1 0 10\n",
      "1 1 1 11\n",
      "1 1 2 12\n"
     ]
    }
   ],
   "source": [
    "for r, row in enumerate(tmp_mat):\n",
    "    print('row: ', row)\n",
    "\n",
    "    for c, mat in enumerate(row):\n",
    "        print('mat: ', mat)\n",
    "        \n",
    "        for c2, letter in enumerate(mat):\n",
    "            print(r,c,c2,letter)\n"
   ]
  },
  {
   "cell_type": "code",
   "execution_count": 53,
   "metadata": {},
   "outputs": [],
   "source": [
    "del r, row, c, mat, c2, letter"
   ]
  }
 ],
 "metadata": {
  "kernelspec": {
   "display_name": "Python 3",
   "language": "python",
   "name": "python3"
  },
  "language_info": {
   "codemirror_mode": {
    "name": "ipython",
    "version": 3
   },
   "file_extension": ".py",
   "mimetype": "text/x-python",
   "name": "python",
   "nbconvert_exporter": "python",
   "pygments_lexer": "ipython3",
   "version": "3.8.18"
  }
 },
 "nbformat": 4,
 "nbformat_minor": 2
}
