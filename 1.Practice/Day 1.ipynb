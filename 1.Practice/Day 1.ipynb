{
 "cells": [
  {
   "cell_type": "markdown",
   "id": "7b4ab1e3",
   "metadata": {},
   "source": [
    "# Day 1"
   ]
  },
  {
   "cell_type": "code",
   "execution_count": 3,
   "id": "cad7ca58",
   "metadata": {
    "ExecuteTime": {
     "end_time": "2024-01-08T07:08:48.428755Z",
     "start_time": "2024-01-08T07:08:48.408202Z"
    }
   },
   "outputs": [],
   "source": [
    "import numpy as np\n",
    "import torch\n",
    "import torch.nn as nn"
   ]
  },
  {
   "cell_type": "code",
   "execution_count": 4,
   "id": "b90150d2",
   "metadata": {
    "ExecuteTime": {
     "end_time": "2024-01-08T07:08:55.331350Z",
     "start_time": "2024-01-08T07:08:55.318150Z"
    }
   },
   "outputs": [
    {
     "name": "stdout",
     "output_type": "stream",
     "text": [
      "[0. 1. 2. 3. 4. 5. 6.]\n"
     ]
    }
   ],
   "source": [
    "t = np.array([0., 1.,2., 3., 4., 5., 6.])\n",
    "print (t)"
   ]
  },
  {
   "cell_type": "markdown",
   "id": "33210843",
   "metadata": {},
   "source": [
    "### NOTE\n",
    "array 안에 '.'을 찍는 이유\n",
    ": float 형태로 저장한다는 뜻. .을 안찍으면 int 형태임"
   ]
  },
  {
   "cell_type": "code",
   "execution_count": null,
   "id": "2c04c428",
   "metadata": {
    "ExecuteTime": {
     "end_time": "2024-01-08T07:08:50.609311Z",
     "start_time": "2024-01-08T07:08:50.579878Z"
    }
   },
   "outputs": [
    {
     "name": "stdout",
     "output_type": "stream",
     "text": [
      "Rank of t :  1\n",
      "Shape of t :  (7,)\n"
     ]
    },
    {
     "ename": "",
     "evalue": "",
     "output_type": "error",
     "traceback": [
      "\u001b[1;31mnotebook controller is DISPOSED. \n",
      "\u001b[1;31m자세한 내용은 Jupyter <a href='command:jupyter.viewOutput'>로그</a>를 참조하세요."
     ]
    }
   ],
   "source": [
    "print('Rank of t : ', t.ndim) # vector이다\n",
    "print('Shape of t : ', t.shape) # 7개의 element가 담겨있다."
   ]
  },
  {
   "cell_type": "code",
   "execution_count": null,
   "id": "eb400b02",
   "metadata": {
    "ExecuteTime": {
     "end_time": "2024-01-08T06:52:59.116533Z",
     "start_time": "2024-01-08T06:52:59.070372Z"
    }
   },
   "outputs": [
    {
     "name": "stdout",
     "output_type": "stream",
     "text": [
      "t[0] t[1] t[-1]=  0.0 1.0 6.0\n",
      "t[2:5] t[4:-1] =  [2. 3. 4.] [3. 4. 5.]\n",
      "t[:2] t[3:]    =  [0. 1.] [3. 4. 5. 6.]\n"
     ]
    },
    {
     "ename": "",
     "evalue": "",
     "output_type": "error",
     "traceback": [
      "\u001b[1;31mnotebook controller is DISPOSED. \n",
      "\u001b[1;31m자세한 내용은 Jupyter <a href='command:jupyter.viewOutput'>로그</a>를 참조하세요."
     ]
    }
   ],
   "source": [
    "print('t[0] t[1] t[-1]= ', t[0],t[1],t[-1]) # element\n",
    "print('t[2:5] t[4:-1] = ', t[2:5], t[3:-1]) # Slicing\n",
    "print('t[:2] t[3:]    = ', t[:2], t[3:])    # Slicing"
   ]
  },
  {
   "cell_type": "markdown",
   "id": "a1085ceb",
   "metadata": {},
   "source": [
    "Python의 index: 2:5는 0, 1, 2번째부터 4번째까지를 의미!! 헷갈리지 말아야 한다\n",
    "-1번째는 matlab의 end와 동일"
   ]
  },
  {
   "cell_type": "markdown",
   "id": "fba61cf8",
   "metadata": {},
   "source": [
    "## 2D array with NumPy"
   ]
  },
  {
   "cell_type": "code",
   "execution_count": null,
   "id": "f261be96",
   "metadata": {
    "ExecuteTime": {
     "end_time": "2024-01-08T07:01:02.901977Z",
     "start_time": "2024-01-08T07:01:02.853690Z"
    }
   },
   "outputs": [
    {
     "name": "stdout",
     "output_type": "stream",
     "text": [
      "[[ 1.  2.  3.]\n",
      " [ 4.  5.  6.]\n",
      " [ 7.  8.  9.]\n",
      " [10. 11. 12.]]\n"
     ]
    },
    {
     "ename": "",
     "evalue": "",
     "output_type": "error",
     "traceback": [
      "\u001b[1;31mnotebook controller is DISPOSED. \n",
      "\u001b[1;31m자세한 내용은 Jupyter <a href='command:jupyter.viewOutput'>로그</a>를 참조하세요."
     ]
    }
   ],
   "source": [
    "t = np.array([[1.,2.,3.],[4.,5.,6.],[7.,8.,9.],[10.,11.,12.]])\n",
    "print(t)"
   ]
  },
  {
   "cell_type": "code",
   "execution_count": null,
   "id": "c47f356a",
   "metadata": {
    "ExecuteTime": {
     "end_time": "2024-01-08T06:53:02.845187Z",
     "start_time": "2024-01-08T06:53:02.818245Z"
    }
   },
   "outputs": [
    {
     "name": "stdout",
     "output_type": "stream",
     "text": [
      "Rank of t :  2\n",
      "Shape of t:  (4, 3)\n"
     ]
    },
    {
     "ename": "",
     "evalue": "",
     "output_type": "error",
     "traceback": [
      "\u001b[1;31mnotebook controller is DISPOSED. \n",
      "\u001b[1;31m자세한 내용은 Jupyter <a href='command:jupyter.viewOutput'>로그</a>를 참조하세요."
     ]
    }
   ],
   "source": [
    "print('Rank of t : ', t.ndim)\n",
    "print('Shape of t: ', t.shape)"
   ]
  },
  {
   "cell_type": "markdown",
   "id": "dd3b8ffb",
   "metadata": {},
   "source": [
    "shape는 실제 차원 숫자 그래도 나온다. rank는 matrix의 경우 2로 출력된다."
   ]
  },
  {
   "cell_type": "markdown",
   "id": "0472b432",
   "metadata": {},
   "source": [
    "## 1D array with PyTorch"
   ]
  },
  {
   "cell_type": "code",
   "execution_count": null,
   "id": "17b6ff99",
   "metadata": {
    "ExecuteTime": {
     "end_time": "2024-01-08T06:53:06.056059Z",
     "start_time": "2024-01-08T06:53:05.988326Z"
    }
   },
   "outputs": [
    {
     "name": "stdout",
     "output_type": "stream",
     "text": [
      "tensor([0., 1., 2., 3., 4., 5., 6.])\n"
     ]
    },
    {
     "ename": "",
     "evalue": "",
     "output_type": "error",
     "traceback": [
      "\u001b[1;31mnotebook controller is DISPOSED. \n",
      "\u001b[1;31m자세한 내용은 Jupyter <a href='command:jupyter.viewOutput'>로그</a>를 참조하세요."
     ]
    }
   ],
   "source": [
    "t = torch.FloatTensor([0.,1.,2.,3.,4.,5.,6.])\n",
    "print(t)"
   ]
  },
  {
   "cell_type": "markdown",
   "id": "3b3186e4",
   "metadata": {},
   "source": [
    "|데이터 형식\t|의미\t|자료형\t|CPU 텐서\t|GPU 텐서|\n",
    "|------|---|---|---|---|\n",
    "|Byte\t|부호 없는 8 비트 정수\t|torch.uint8\t|torch.ByteTensor\t|torch.cuda.ByteTensor|\n",
    "|Short\t|부호 있는 16 비트 정수\t|torch.short\t|torch.ShortTensor\t|torch.cuda.ShortTensor|\n",
    "|Int\t|부호 있는 32 비트 정수\t|torch.int\t|torch.IntTensor\t|torch.cuda.IntTensor|\n",
    "|Long\t|부호 있는 64 비트 정수\t|torch.long\t|torch.LongTensor\t|torch.cuda.LongTensor|\n",
    "|Binary16\t|16 비트 부동 소수점\t|torch.half\ttorch.HalfTensor\t|torch.cuda.HalfTensor|\n",
    "|Brain Floating Point\t|16 비트 부동 소수점\t|torch.bfloat16\t|torch.BFloat16Tensor\t|torch.cuda.BFloat16Tensor|\n",
    "|Float\t|32 비트 부동 소수점\t|torch.float\t|torch.FloatTensor\t|torch.cuda.FloatTensor|\n",
    "|Double\t|32 비트 부동 소수점\t|torch.double\t|torch.DoubleTensor\t|torch.cuda.DoubleTensor|\n",
    "|Boolean\t|논리 형식\t|torch.bool\t|torch.BoolTensor\t|torch.cuda.BoolTensor|\n",
    "|Int8\t|부호 있는 8 비트 정수\t|torch.int8\t|torch.CharTensor\t|torch.CharTensor|\n",
    "|Int16\t|부호 있는 16 비트 정수\t|torch.int16\t|torch.ShortTensor\t|torch.cuda.ShortTensor|\n",
    "|Int32\t|부호 있는 32 비트 정수\t|torch.int32\t|torch.IntTensor\t|torch.cuda.IntTensor|\n",
    "|Int64\t|부호 있는 64 비트 정수\t|torch.int64\t|torch.LongTensor\t|torch.cuda.LongTensor|\n",
    "|Float16\t|16 비트 부동 소수점\t|torch.float16\t|torch.HalfTensor\t|torch.cuda.HalfTensor|\n",
    "|Float32\t|32 비트 부동 소수점\t|torch.float32\t|torch.FloatTensor\t|torch.cuda.FloatTens|\n",
    "|Float64\t|64 비트 부동 소수점\t|torch.float64\t|torch.DoubleTensor\t|torch.cuda.DoubleTensor|\n",
    "|Complex32\t|32 비트 복합 형식\t|torch.complex32\t |\t |\n",
    "|Complex64\t|64 비트 복합 형식\t|torch.complex64\t |\t |\n",
    "|Complex128\t|128 비트 복합 형식\t|torch.complex128\t |\t |\n",
    "|Complex128\t|128 비트 복합 형식\t|torch.cdouble\t \t| |\n",
    "|Quantized Int\t|양자화된 부호 있는 4비트 정수\t|torch.quint4x2\t|torch.ByteTensor|\t |\n",
    "|Quantized Int\t|양자화된 부호 없는 8 비트 정수\t|torch.quint8\t|torch.ByteTensor|\t |\n",
    "|Quantized Int\t|양자화된 부호 있는 8 비트 정수\t|torch.qint8\t|torch.CharTensor|\t |\n",
    "|Quantized Int\t|양자화된 부호 있는 32 비트 정수\t|torch.qfint32\t|torch.IntTensor|\t| "
   ]
  },
  {
   "cell_type": "markdown",
   "id": "7f311888",
   "metadata": {},
   "source": [
    "PyTorch에서 지원하는 텐서의 유형은 위와 같습니다.\n",
    "그 중, IntTensor, LongTensor, FloatTensor가 가장 많이 활용됩니다.\n",
    "또한, torch.Tensor의 기본 유형은 torch.FloatTensor(torch.float32)를 따릅니다."
   ]
  },
  {
   "cell_type": "code",
   "execution_count": null,
   "id": "a0425b1b",
   "metadata": {
    "ExecuteTime": {
     "end_time": "2024-01-08T06:53:12.160944Z",
     "start_time": "2024-01-08T06:53:12.104892Z"
    }
   },
   "outputs": [
    {
     "name": "stdout",
     "output_type": "stream",
     "text": [
      "1\n",
      "torch.Size([7])\n",
      "torch.Size([7])\n",
      "tensor(0.) tensor(1.) tensor(6.)\n",
      "tensor([2., 3., 4.]) tensor([4., 5.])\n",
      "tensor([0., 1.]) tensor([3., 4., 5., 6.])\n"
     ]
    },
    {
     "ename": "",
     "evalue": "",
     "output_type": "error",
     "traceback": [
      "\u001b[1;31mnotebook controller is DISPOSED. \n",
      "\u001b[1;31m자세한 내용은 Jupyter <a href='command:jupyter.viewOutput'>로그</a>를 참조하세요."
     ]
    }
   ],
   "source": [
    "print(t.dim()) # rank\n",
    "print(t.shape) # shape\n",
    "print(t.size()) # shape\n",
    "print(t[0], t[1], t[-1]) # element\n",
    "print(t[2:5], t[4:-1]) # Slicing\n",
    "print(t[:2], t[3:]) # Slicing"
   ]
  },
  {
   "cell_type": "markdown",
   "id": "e19b78e6",
   "metadata": {},
   "source": [
    "## 2D array with Pytorch"
   ]
  },
  {
   "cell_type": "code",
   "execution_count": null,
   "id": "b3f3737f",
   "metadata": {
    "ExecuteTime": {
     "end_time": "2024-01-08T06:53:14.027225Z",
     "start_time": "2024-01-08T06:53:13.967195Z"
    }
   },
   "outputs": [
    {
     "name": "stdout",
     "output_type": "stream",
     "text": [
      "tensor([[ 1.,  2.,  3.],\n",
      "        [ 4.,  5.,  6.],\n",
      "        [ 7.,  8.,  9.],\n",
      "        [10., 11., 12.]])\n",
      "2\n",
      "torch.Size([4, 3])\n",
      "torch.Size([4, 3])\n",
      "tensor([ 2.,  5.,  8., 11.])\n",
      "torch.Size([4])\n",
      "tensor([[ 1.,  2.],\n",
      "        [ 4.,  5.],\n",
      "        [ 7.,  8.],\n",
      "        [10., 11.]])\n"
     ]
    },
    {
     "ename": "",
     "evalue": "",
     "output_type": "error",
     "traceback": [
      "\u001b[1;31mnotebook controller is DISPOSED. \n",
      "\u001b[1;31m자세한 내용은 Jupyter <a href='command:jupyter.viewOutput'>로그</a>를 참조하세요."
     ]
    }
   ],
   "source": [
    "t = torch.FloatTensor([[1.,2.,3.],\n",
    "                       [4.,5.,6.],\n",
    "                       [7.,8.,9.],\n",
    "                       [10.,11.,12]])\n",
    "print(t)\n",
    "\n",
    "print(t.dim()) # rank\n",
    "print(t.shape) # Shape\n",
    "print(t.size()) # Shape\n",
    "print(t[:,1]) # 모든 차원 : 1번째 차원 값을 print\n",
    "print(t[:,1].size()) # 모든 차원 : 1번째 차원 값의 크기 print\n",
    "print(t[:, :-1]) # 모든 행, -1을 제외한 차원 값 print"
   ]
  },
  {
   "cell_type": "markdown",
   "id": "27a1f179",
   "metadata": {},
   "source": [
    "## Broadcasting\n",
    "덧셈과 뺄셈을 할 때는 tensor의 크기가 같아야 한다.<br>\n",
    "행렬곱을 수행할 때 마지막 차원과 첫번째 차원이 일치해야 한다.<br>\n",
    "그러나 불가피하게 다른 크기의 행렬을 더하거나 빼는 사칙연산을 수행하여야 할 때가 있다.<br>\n",
    "이때를 위하여 pytorch에서 제공하는 broadcasting 기능을 이용한다."
   ]
  },
  {
   "cell_type": "code",
   "execution_count": null,
   "id": "f498ddd2",
   "metadata": {
    "ExecuteTime": {
     "end_time": "2024-01-08T06:53:16.210867Z",
     "start_time": "2024-01-08T06:53:16.157278Z"
    }
   },
   "outputs": [
    {
     "name": "stdout",
     "output_type": "stream",
     "text": [
      "2\n",
      "1\n",
      "3\n",
      "torch.Size([1, 2])\n",
      "mm1.shape:  torch.Size([2])\n",
      "torch.Size([1, 1, 2])\n",
      "torch.Size([1, 2])\n",
      "tensor([[5., 5.]])\n"
     ]
    },
    {
     "ename": "",
     "evalue": "",
     "output_type": "error",
     "traceback": [
      "\u001b[1;31mnotebook controller is DISPOSED. \n",
      "\u001b[1;31m자세한 내용은 Jupyter <a href='command:jupyter.viewOutput'>로그</a>를 참조하세요."
     ]
    }
   ],
   "source": [
    "# Same shape\n",
    "m1 = torch.FloatTensor([[3,3]]) # 2차원 (1,2)\n",
    "mm1 = torch.FloatTensor([3,3]) # 1차원 list (2,)\n",
    "mmm1 = torch.FloatTensor([[[3,3]]]) # 3차원 (1,1,2)\n",
    "m2 = torch.FloatTensor([[2,2]])\n",
    "\n",
    "z = [[3,3]]\n",
    "z1 = torch.FloatTensor(z)\n",
    "\n",
    "print(m1.dim())\n",
    "print(mm1.dim())\n",
    "print(mmm1.dim())\n",
    "\n",
    "print(m1.shape)\n",
    "print('mm1.shape: ', mm1.shape)\n",
    "print(mmm1.shape)\n",
    "\n",
    "print(m2.shape)\n",
    "\n",
    "print(m1+m2)"
   ]
  },
  {
   "cell_type": "code",
   "execution_count": null,
   "id": "e0b9701b",
   "metadata": {
    "ExecuteTime": {
     "end_time": "2024-01-08T07:00:32.436485Z",
     "start_time": "2024-01-08T07:00:32.363026Z"
    }
   },
   "outputs": [
    {
     "name": "stdout",
     "output_type": "stream",
     "text": [
      "tensor([[4., 5.]])\n",
      "torch.Size([1, 2])\n"
     ]
    },
    {
     "ename": "",
     "evalue": "",
     "output_type": "error",
     "traceback": [
      "\u001b[1;31mnotebook controller is DISPOSED. \n",
      "\u001b[1;31m자세한 내용은 Jupyter <a href='command:jupyter.viewOutput'>로그</a>를 참조하세요."
     ]
    }
   ],
   "source": [
    "# Vector + scalar\n",
    "m1 = torch.FloatTensor([[1, 2]])  # shape (1,2)\n",
    "m2 = torch.FloatTensor([3])  # shape(1,) -> shape (1,2)\n",
    "print(m1 + m2)  # broadcasting 결과: [[1,2]] + [[3,3]]\n",
    "print((m1+m2).shape)"
   ]
  },
  {
   "cell_type": "code",
   "execution_count": null,
   "id": "10a83cd7",
   "metadata": {
    "ExecuteTime": {
     "end_time": "2024-01-08T06:53:19.700903Z",
     "start_time": "2024-01-08T06:53:19.660513Z"
    }
   },
   "outputs": [
    {
     "name": "stdout",
     "output_type": "stream",
     "text": [
      "tensor([[4., 5.],\n",
      "        [5., 6.]])\n",
      "torch.Size([2, 2])\n"
     ]
    },
    {
     "ename": "",
     "evalue": "",
     "output_type": "error",
     "traceback": [
      "\u001b[1;31mnotebook controller is DISPOSED. \n",
      "\u001b[1;31m자세한 내용은 Jupyter <a href='command:jupyter.viewOutput'>로그</a>를 참조하세요."
     ]
    }
   ],
   "source": [
    "# tensor 간의 연산도 가능하다.\n",
    "# 2 X 1 vector + 1 x 2 vector\n",
    "m1 = torch.FloatTensor([[1,2]]) # (1,2) -> (2,2)\n",
    "m2 = torch.FloatTensor([[3],[4]]) # (2,1) -> (2,2)\n",
    "print(m1 + m2) \n",
    "\n",
    "print((m1+m2).shape)"
   ]
  },
  {
   "cell_type": "markdown",
   "id": "e702bedc",
   "metadata": {},
   "source": [
    "$\\begin{bmatrix}1&2 \\end{bmatrix}$ 가 $\\begin{bmatrix}1&2\\\\1&2\\\\ \\end{bmatrix}$ 로, \n",
    "$\\begin{bmatrix}3\\\\4\\\\ \\end{bmatrix}$ 가 $\\begin{bmatrix}3&3\\\\4&4\\\\ \\end{bmatrix}$ 로 변환되어 <br>\n",
    "<br>\n",
    "$\\begin{bmatrix}1&2\\\\1&2\\\\ \\end{bmatrix}$ + $\\begin{bmatrix}3&3\\\\4&4\\\\ \\end{bmatrix}$ = $\\begin{bmatrix}4&5\\\\5&6\\\\ \\end{bmatrix}$ <br>\n",
    "\n",
    "!! broadcasting은 자동으로 작성되기 때문에 사용 시 매우 주의해야 한다."
   ]
  },
  {
   "cell_type": "markdown",
   "id": "ca8c0a2e",
   "metadata": {},
   "source": [
    "## Maltiplication vs. Matrix Multiplication"
   ]
  },
  {
   "cell_type": "code",
   "execution_count": null,
   "id": "aa2cf4e3",
   "metadata": {},
   "outputs": [
    {
     "name": "stdout",
     "output_type": "stream",
     "text": [
      "\n",
      "------------\n",
      "Mul vs Matmul\n",
      "------------\n",
      "Shape of Matrix 1(m1):  torch.Size([2, 2])\n",
      "Shape of Matrix 2(m2):  torch.Size([2, 1])\n",
      "tensor([[1., 2.],\n",
      "        [6., 8.]])\n",
      "m1.mul(m2) =  tensor([[1., 2.],\n",
      "        [6., 8.]])\n",
      "m1.matmul(m2) =  tensor([[ 5.],\n",
      "        [11.]])\n"
     ]
    },
    {
     "ename": "",
     "evalue": "",
     "output_type": "error",
     "traceback": [
      "\u001b[1;31mnotebook controller is DISPOSED. \n",
      "\u001b[1;31m자세한 내용은 Jupyter <a href='command:jupyter.viewOutput'>로그</a>를 참조하세요."
     ]
    }
   ],
   "source": [
    "print()\n",
    "print('------------')\n",
    "print('Mul vs Matmul')\n",
    "print('------------')\n",
    "m1 = torch.FloatTensor([[1,2],\n",
    "                        [3,4]])\n",
    "m2 = torch.FloatTensor([[1],\n",
    "                        [2]])\n",
    "print('Shape of Matrix 1(m1): ', m1.shape) # (2,2)\n",
    "print('Shape of Matrix 2(m2): ', m2.shape) # (2,1)\n",
    "print(m1*m2) # (2,2)\n",
    "\n",
    "# 곱하기 비교\n",
    "print('m1.mul(m2) = ', m1.mul(m2)) \n",
    "print('m1.matmul(m2) = ', m1.matmul(m2)) "
   ]
  },
  {
   "cell_type": "markdown",
   "id": "1cb19e27",
   "metadata": {},
   "source": [
    "- .mul()\n",
    "\n",
    "element-wise 곱 계산 방법은 다음과 같다. 이는 * 연산과 동일하다\n",
    "\n",
    "$\\begin{bmatrix}1&2\\\\3&4\\\\ \\end{bmatrix}$ * $\\begin{bmatrix}1&1\\\\2&2\\\\ \\end{bmatrix}$ =\n",
    "$\\begin{bmatrix}1&2\\\\6&8\\\\ \\end{bmatrix}$\n",
    "\n",
    "- .matmul()  \n",
    "\n",
    "inner products / dot products / 행렬곱 방법은 다음과 같다.\n",
    "\n",
    "$\\begin{bmatrix}1&2\\\\3&4\\\\ \\end{bmatrix}$ * $\\begin{bmatrix}1\\\\2\\\\ \\end{bmatrix}$ =\n",
    "$\\begin{bmatrix}5\\\\11\\\\ \\end{bmatrix}$"
   ]
  },
  {
   "cell_type": "markdown",
   "id": "04baa2a4",
   "metadata": {},
   "source": [
    "## Mean"
   ]
  },
  {
   "cell_type": "code",
   "execution_count": null,
   "id": "3576b77d",
   "metadata": {},
   "outputs": [
    {
     "name": "stdout",
     "output_type": "stream",
     "text": [
      "tensor(1.5000)\n"
     ]
    },
    {
     "ename": "",
     "evalue": "",
     "output_type": "error",
     "traceback": [
      "\u001b[1;31mnotebook controller is DISPOSED. \n",
      "\u001b[1;31m자세한 내용은 Jupyter <a href='command:jupyter.viewOutput'>로그</a>를 참조하세요."
     ]
    }
   ],
   "source": [
    "t = torch.FloatTensor([1,2])\n",
    "print(t.mean())"
   ]
  },
  {
   "cell_type": "code",
   "execution_count": null,
   "id": "718d1df9",
   "metadata": {},
   "outputs": [
    {
     "name": "stdout",
     "output_type": "stream",
     "text": [
      "mean(): could not infer output dtype. Input dtype must be either a floating point or complex dtype. Got: Long\n"
     ]
    },
    {
     "ename": "",
     "evalue": "",
     "output_type": "error",
     "traceback": [
      "\u001b[1;31mnotebook controller is DISPOSED. \n",
      "\u001b[1;31m자세한 내용은 Jupyter <a href='command:jupyter.viewOutput'>로그</a>를 참조하세요."
     ]
    }
   ],
   "source": [
    "# Can't use mean() on ingegers\n",
    "t = torch.LongTensor([1,2])\n",
    "\n",
    "try:\n",
    "    print(t.mean())\n",
    "except Exception as exc:\n",
    "    print(exc)"
   ]
  },
  {
   "cell_type": "markdown",
   "id": "9e209f59",
   "metadata": {},
   "source": [
    "You can also use t.mean for higher rank tensors to get mean of all elements, or mean by particular dimension"
   ]
  },
  {
   "cell_type": "code",
   "execution_count": null,
   "id": "24cbb2e9",
   "metadata": {},
   "outputs": [
    {
     "name": "stdout",
     "output_type": "stream",
     "text": [
      "tensor([[1., 2.],\n",
      "        [3., 4.]])\n"
     ]
    },
    {
     "ename": "",
     "evalue": "",
     "output_type": "error",
     "traceback": [
      "\u001b[1;31mnotebook controller is DISPOSED. \n",
      "\u001b[1;31m자세한 내용은 Jupyter <a href='command:jupyter.viewOutput'>로그</a>를 참조하세요."
     ]
    }
   ],
   "source": [
    "t = torch.FloatTensor([[1,2],[3,4]])\n",
    "print(t)"
   ]
  },
  {
   "cell_type": "markdown",
   "id": "3022c44b",
   "metadata": {},
   "source": [
    "우리가 원하는 차원에 대해서만 mean 을 계산할 수 있다."
   ]
  },
  {
   "cell_type": "code",
   "execution_count": null,
   "id": "a70bb47d",
   "metadata": {},
   "outputs": [
    {
     "name": "stdout",
     "output_type": "stream",
     "text": [
      "tensor(2.5000)\n",
      "tensor([2., 3.])\n",
      "tensor([1.5000, 3.5000])\n",
      "tensor([1.5000, 3.5000])\n"
     ]
    },
    {
     "ename": "",
     "evalue": "",
     "output_type": "error",
     "traceback": [
      "\u001b[1;31mnotebook controller is DISPOSED. \n",
      "\u001b[1;31m자세한 내용은 Jupyter <a href='command:jupyter.viewOutput'>로그</a>를 참조하세요."
     ]
    }
   ],
   "source": [
    "# dim 을 axis로 써주면(?) numpy와 똑같다.\n",
    "print(t.mean())\n",
    "print(t.mean(dim=0)) # dimension 0 을 없애겠어! \n",
    "print(t.mean(dim=1))\n",
    "print(t.mean(dim=-1)) # 마지막 dimension을 없애겠어!"
   ]
  },
  {
   "cell_type": "markdown",
   "id": "0a6a4d8e",
   "metadata": {},
   "source": [
    "함수 $\\begin{bmatrix}1&2\\\\3&4\\\\ \\end{bmatrix}$ 에서\n",
    "\n",
    "print(t.mean(dim=0)) 의 경우 dimension 0 을 없애겠다는 뜻이므로 \n",
    "\n",
    "어찌 됐든 $\\begin{bmatrix} ?&? \\end{bmatrix}$ , 즉 (1,2) 모양(벡터)이 나와야 하는것이다.\n",
    "\n",
    "따라서 결과는 $\\begin{bmatrix} 2&3 \\end{bmatrix}$\n",
    "<br>\n",
    "<br>\n",
    "<br>\n",
    "같은 방법으로 print(t.mean(dim=1)) 의 경우 dimension 1 을 없애겠다는 뜻이므로 \n",
    "\n",
    "결과는 $\\begin{bmatrix} 1.5\\\\3.5 \\end{bmatrix}$\n",
    "\n",
    "그런데 이건 그냥 벡터이므로 \n",
    "\n",
    "[1.5, 3.5] 로 표시된다\n",
    "\n"
   ]
  },
  {
   "cell_type": "markdown",
   "id": "9242acf7",
   "metadata": {},
   "source": [
    "## Sum"
   ]
  },
  {
   "cell_type": "code",
   "execution_count": null,
   "id": "d0b40bd7",
   "metadata": {},
   "outputs": [
    {
     "name": "stdout",
     "output_type": "stream",
     "text": [
      "tensor([[1., 2.],\n",
      "        [3., 4.]])\n"
     ]
    },
    {
     "ename": "",
     "evalue": "",
     "output_type": "error",
     "traceback": [
      "\u001b[1;31mnotebook controller is DISPOSED. \n",
      "\u001b[1;31m자세한 내용은 Jupyter <a href='command:jupyter.viewOutput'>로그</a>를 참조하세요."
     ]
    }
   ],
   "source": [
    "t = torch.FloatTensor([[1,2],\n",
    "                       [3,4]])\n",
    "print(t)"
   ]
  },
  {
   "cell_type": "code",
   "execution_count": null,
   "id": "f3571e49",
   "metadata": {},
   "outputs": [
    {
     "name": "stdout",
     "output_type": "stream",
     "text": [
      "tensor(10.)\n",
      "tensor([4., 6.])\n",
      "tensor([3., 7.])\n",
      "tensor([3., 7.])\n"
     ]
    },
    {
     "ename": "",
     "evalue": "",
     "output_type": "error",
     "traceback": [
      "\u001b[1;31mnotebook controller is DISPOSED. \n",
      "\u001b[1;31m자세한 내용은 Jupyter <a href='command:jupyter.viewOutput'>로그</a>를 참조하세요."
     ]
    }
   ],
   "source": [
    "print(t.sum())\n",
    "print(t.sum(dim=0))\n",
    "print(t.sum(dim=1))\n",
    "print(t.sum(dim=-1))"
   ]
  },
  {
   "cell_type": "markdown",
   "id": "16a02e53",
   "metadata": {},
   "source": [
    "## Max and Argmax"
   ]
  },
  {
   "cell_type": "code",
   "execution_count": null,
   "id": "70755a61",
   "metadata": {},
   "outputs": [
    {
     "name": "stdout",
     "output_type": "stream",
     "text": [
      "tensor([[1., 2.],\n",
      "        [3., 4.]])\n"
     ]
    },
    {
     "ename": "",
     "evalue": "",
     "output_type": "error",
     "traceback": [
      "\u001b[1;31mnotebook controller is DISPOSED. \n",
      "\u001b[1;31m자세한 내용은 Jupyter <a href='command:jupyter.viewOutput'>로그</a>를 참조하세요."
     ]
    }
   ],
   "source": [
    "t = torch.FloatTensor([[1,2], \n",
    "                       [3,4]])\n",
    "print(t)"
   ]
  },
  {
   "cell_type": "markdown",
   "id": "531c4ae9",
   "metadata": {},
   "source": [
    "The max operatior returns one value of if it is called without an argument"
   ]
  },
  {
   "cell_type": "code",
   "execution_count": null,
   "id": "50a91b6d",
   "metadata": {},
   "outputs": [
    {
     "name": "stdout",
     "output_type": "stream",
     "text": [
      "tensor(4.)\n"
     ]
    },
    {
     "ename": "",
     "evalue": "",
     "output_type": "error",
     "traceback": [
      "\u001b[1;31mnotebook controller is DISPOSED. \n",
      "\u001b[1;31m자세한 내용은 Jupyter <a href='command:jupyter.viewOutput'>로그</a>를 참조하세요."
     ]
    }
   ],
   "source": [
    "print(t.max()) # Returns one value: max"
   ]
  },
  {
   "cell_type": "markdown",
   "id": "9383667e",
   "metadata": {},
   "source": [
    "The <span style=\"color: #2D3748; background-color: #f6f8fa;\"> max</span> operator returns 2 values when called with dimension specified. <br>\n",
    "The first value is the maximum value, and the second value is the argmax: the index of the element with maximum value."
   ]
  },
  {
   "cell_type": "code",
   "execution_count": null,
   "id": "1b5435ae",
   "metadata": {},
   "outputs": [
    {
     "name": "stdout",
     "output_type": "stream",
     "text": [
      "torch.return_types.max(\n",
      "values=tensor([3., 4.]),\n",
      "indices=tensor([1, 1]))\n"
     ]
    },
    {
     "ename": "",
     "evalue": "",
     "output_type": "error",
     "traceback": [
      "\u001b[1;31mnotebook controller is DISPOSED. \n",
      "\u001b[1;31m자세한 내용은 Jupyter <a href='command:jupyter.viewOutput'>로그</a>를 참조하세요."
     ]
    }
   ],
   "source": [
    "print(t.max(dim=0)) # 제일 큰 값이 있는 dimension 0 "
   ]
  },
  {
   "cell_type": "code",
   "execution_count": null,
   "id": "d909ed65",
   "metadata": {},
   "outputs": [
    {
     "name": "stdout",
     "output_type": "stream",
     "text": [
      "Max:  tensor([3., 4.])\n",
      "Max:  tensor([2., 4.])\n",
      "Argmax:  tensor([1, 1])\n",
      "Argmax:  tensor([1, 1])\n"
     ]
    },
    {
     "ename": "",
     "evalue": "",
     "output_type": "error",
     "traceback": [
      "\u001b[1;31mnotebook controller is DISPOSED. \n",
      "\u001b[1;31m자세한 내용은 Jupyter <a href='command:jupyter.viewOutput'>로그</a>를 참조하세요."
     ]
    }
   ],
   "source": [
    "print('Max: ', t.max(dim=0)[0])\n",
    "print('Max: ', t.max(dim=1)[0]) # index[0]은 차원 1이 사라지는 나머지 차원에서 최댓값 성분을 불러오란 의미\n",
    "print('Argmax: ', t.max(dim=0)[1]) # index [1] 은 index 값을 불러오란 의미\n",
    "print('Argmax: ', t.max(dim=1)[1])"
   ]
  },
  {
   "cell_type": "code",
   "execution_count": null,
   "id": "e8a9ab10",
   "metadata": {},
   "outputs": [
    {
     "data": {
      "text/plain": [
       "torch.return_types.max(\n",
       "values=tensor([3., 4.]),\n",
       "indices=tensor([1, 1]))"
      ]
     },
     "execution_count": 8,
     "metadata": {},
     "output_type": "execute_result"
    },
    {
     "ename": "",
     "evalue": "",
     "output_type": "error",
     "traceback": [
      "\u001b[1;31mnotebook controller is DISPOSED. \n",
      "\u001b[1;31m자세한 내용은 Jupyter <a href='command:jupyter.viewOutput'>로그</a>를 참조하세요."
     ]
    }
   ],
   "source": [
    "t.max(dim=0)"
   ]
  },
  {
   "cell_type": "code",
   "execution_count": null,
   "id": "b77a65dd",
   "metadata": {},
   "outputs": [
    {
     "name": "stdout",
     "output_type": "stream",
     "text": [
      "torch.return_types.max(\n",
      "values=tensor([2., 4.]),\n",
      "indices=tensor([1, 1]))\n",
      "torch.return_types.max(\n",
      "values=tensor([2., 4.]),\n",
      "indices=tensor([1, 1]))\n"
     ]
    },
    {
     "ename": "",
     "evalue": "",
     "output_type": "error",
     "traceback": [
      "\u001b[1;31mnotebook controller is DISPOSED. \n",
      "\u001b[1;31m자세한 내용은 Jupyter <a href='command:jupyter.viewOutput'>로그</a>를 참조하세요."
     ]
    }
   ],
   "source": [
    "print(t.max(dim=1))\n",
    "print(t.max(dim=-1))"
   ]
  },
  {
   "cell_type": "code",
   "execution_count": null,
   "id": "344bbcee",
   "metadata": {},
   "outputs": [
    {
     "name": "stdout",
     "output_type": "stream",
     "text": [
      "torch.Size([5, 1, 32, 32])\n",
      "torch.Size([5, 64, 24, 24])\n",
      "Sequential(\n",
      "  (0): Conv2d(1, 20, kernel_size=(5, 5), stride=(1, 1))\n",
      "  (1): ReLU()\n",
      "  (2): Conv2d(20, 64, kernel_size=(5, 5), stride=(1, 1))\n",
      "  (3): ReLU()\n",
      ")\n"
     ]
    },
    {
     "ename": "",
     "evalue": "",
     "output_type": "error",
     "traceback": [
      "\u001b[1;31mnotebook controller is DISPOSED. \n",
      "\u001b[1;31m자세한 내용은 Jupyter <a href='command:jupyter.viewOutput'>로그</a>를 참조하세요."
     ]
    }
   ],
   "source": [
    "# 민수랑 간단한 예제 작성\n",
    "minsu = nn.Sequential(\n",
    "    nn.Conv2d(1,20,5),\n",
    "    nn.ReLU(),\n",
    "    nn.Conv2d(20,64,5),\n",
    "    nn.ReLU()\n",
    ")\n",
    "# Sequential: layer 모음집. 중간에 변형 시킬 수가 없음 class 화 되어있는 건 아님 class화 시키면 flatten 등 다른 연산 가능\n",
    "# e.g.)첫 레이어 통과 후 fully connected layer 같은걸 적용 시킬 수 없음\n",
    "# channel size 20 kernel 5\n",
    "# channel size 20 -> 64, kernel 5 \n",
    "# 5 kernel -> convolution -> 4만큼 줄어서 32 -> 28\n",
    "\n",
    "value = torch.zeros((5,1,32,32)) # 입력 값\n",
    "# 32가 입력으로 들어가면서 kernel 5*5\n",
    "# 첫 레이어(Conv2d(1,20,5)): 1*32*32 -> 20*28*28\n",
    "# 두번째 레이어(Conv2d(20,64,5)): 64*24*24\n",
    "# classification 하려면 두번째 레이어를 flatten -> fully connected layer-> (softmax, sigmoid) -> output이 2개나오도록(2진분류)\n",
    " \n",
    "\n",
    "out = minsu(value) # 출력\n",
    "\n",
    "print(value.shape)\n",
    "print(out.shape)\n",
    "print(minsu)\n"
   ]
  }
 ],
 "metadata": {
  "kernelspec": {
   "display_name": "Python 3",
   "language": "python",
   "name": "python3"
  },
  "language_info": {
   "codemirror_mode": {
    "name": "ipython",
    "version": 3
   },
   "file_extension": ".py",
   "mimetype": "text/x-python",
   "name": "python",
   "nbconvert_exporter": "python",
   "pygments_lexer": "ipython3",
   "version": "3.8.8"
  },
  "toc": {
   "base_numbering": 1,
   "nav_menu": {},
   "number_sections": true,
   "sideBar": true,
   "skip_h1_title": false,
   "title_cell": "Table of Contents",
   "title_sidebar": "Contents",
   "toc_cell": false,
   "toc_position": {},
   "toc_section_display": true,
   "toc_window_display": false
  },
  "varInspector": {
   "cols": {
    "lenName": "27",
    "lenType": "24",
    "lenVar": "47"
   },
   "kernels_config": {
    "python": {
     "delete_cmd_postfix": "",
     "delete_cmd_prefix": "del ",
     "library": "var_list.py",
     "varRefreshCmd": "print(var_dic_list())"
    },
    "r": {
     "delete_cmd_postfix": ") ",
     "delete_cmd_prefix": "rm(",
     "library": "var_list.r",
     "varRefreshCmd": "cat(var_dic_list()) "
    }
   },
   "oldHeight": 193,
   "position": {
    "height": "215px",
    "left": "832.8478393554688px",
    "right": "20px",
    "top": "195.8885955810547px",
    "width": "423.2472839355469px"
   },
   "types_to_exclude": [
    "module",
    "function",
    "builtin_function_or_method",
    "instance",
    "_Feature"
   ],
   "varInspector_section_display": "block",
   "window_display": true
  }
 },
 "nbformat": 4,
 "nbformat_minor": 5
}
