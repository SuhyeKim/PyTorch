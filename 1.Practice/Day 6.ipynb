{
 "cells": [
  {
   "cell_type": "markdown",
   "metadata": {},
   "source": [
    "# Day 6"
   ]
  },
  {
   "cell_type": "code",
   "execution_count": 7,
   "metadata": {},
   "outputs": [],
   "source": [
    "import torch\n",
    "import torch.nn as nn\n",
    "import torch.nn.functional as F\n",
    "import torch.optim as optim\n",
    "\n",
    "import numpy as np"
   ]
  },
  {
   "cell_type": "code",
   "execution_count": 2,
   "metadata": {},
   "outputs": [
    {
     "data": {
      "text/plain": [
       "<torch._C.Generator at 0x10ff54650>"
      ]
     },
     "execution_count": 2,
     "metadata": {},
     "output_type": "execute_result"
    }
   ],
   "source": [
    "# For reproducibility\n",
    "torch.manual_seed(1)"
   ]
  },
  {
   "cell_type": "markdown",
   "metadata": {},
   "source": [
    "## Discrete Probability Distribution\n",
    "이산적인 확률 분포를 일컬음 <br>\n",
    "pdf 의 경우 함수의 면적이 합률 값을 의미했다.\n",
    "\n",
    "이산적인 확률 분포는 값의 확률을 구할 수 있다."
   ]
  },
  {
   "cell_type": "markdown",
   "metadata": {},
   "source": [
    "## Softmax\n",
    "convert numbers to probalities with softmax<br>\n",
    "가위를 냈을 때 주먹을 낼 확률? P(주먹|가위) = ? <br>\n",
    "가위를 냈을 때 보를 낼 확률? P(보|가위) = ?<br>\n",
    "이런식으로 확률 분포를 근사하고 싶다.<br>\n",
    "\n",
    "softmax 는 예측이 맞을 땐 값이 작은 값이 되고(cost 값은 0에 가까워질수록 좋음) 예측이 틀리게 되면 값을 엄청 크게 주어서 일종의 벌(?)을 주는 형태로 수식이 만들어져있다.<br>\n",
    "\n",
    "$$ P(class=i) = \\frac{e^i}{e^1+e^2+e^3+...+e^i} = \\frac{e^i}{\\sum e^i} $$"
   ]
  },
  {
   "cell_type": "code",
   "execution_count": 4,
   "metadata": {},
   "outputs": [],
   "source": [
    "z = torch.FloatTensor([1,2,3])"
   ]
  },
  {
   "cell_type": "markdown",
   "metadata": {},
   "source": [
    "PyTorch has a `softmax` function <br>\n",
    "max 값을 soft하게 뽑아주는 것이 `softmax`\n",
    "\n",
    "z 의 max 값은 (0,0,1)이지만 그것을 부드럽게 뽑아주는 방법이다."
   ]
  },
  {
   "cell_type": "code",
   "execution_count": 16,
   "metadata": {},
   "outputs": [
    {
     "name": "stdout",
     "output_type": "stream",
     "text": [
      "tensor([0.0900, 0.2447, 0.6652])\n"
     ]
    }
   ],
   "source": [
    "hypothesis = F.softmax(z, dim = 0)\n",
    "print(hypothesis)"
   ]
  },
  {
   "cell_type": "markdown",
   "metadata": {},
   "source": [
    "Since they are probabilities, they should add up to 1. Let's do a sanity check"
   ]
  },
  {
   "cell_type": "code",
   "execution_count": 17,
   "metadata": {},
   "outputs": [
    {
     "data": {
      "text/plain": [
       "tensor(1.)"
      ]
     },
     "execution_count": 17,
     "metadata": {},
     "output_type": "execute_result"
    }
   ],
   "source": [
    "hypothesis.sum()"
   ]
  },
  {
   "cell_type": "markdown",
   "metadata": {},
   "source": [
    "## Corss Entropy Loss (Low-level)\n",
    "$$ L = \\frac{1}{N} \\sum - y \\log(\\hat{y}) $$\n",
    "y는 실제 확률 P(x) h hat은 예측한 확률 Q(x)"
   ]
  },
  {
   "cell_type": "code",
   "execution_count": 19,
   "metadata": {},
   "outputs": [
    {
     "name": "stdout",
     "output_type": "stream",
     "text": [
      "tensor([[0.1664, 0.1871, 0.1737, 0.2695, 0.2033],\n",
      "        [0.2002, 0.1783, 0.2218, 0.1944, 0.2054],\n",
      "        [0.1809, 0.2380, 0.2318, 0.1084, 0.2409]], grad_fn=<SoftmaxBackward0>)\n"
     ]
    }
   ],
   "source": [
    "z = torch.rand(3,5, requires_grad= True)\n",
    "hypothesis = F.softmax(z, dim=1) # dimention 두번째 걸로 수행 = 한 행의 값이 1이 되도록\n",
    "print(hypothesis) # y hat"
   ]
  },
  {
   "cell_type": "markdown",
   "metadata": {},
   "source": [
    "class 수를 다섯 개, sample 수를 세 개로"
   ]
  },
  {
   "cell_type": "code",
   "execution_count": 25,
   "metadata": {},
   "outputs": [
    {
     "name": "stdout",
     "output_type": "stream",
     "text": [
      "tensor([2, 0, 0])\n"
     ]
    }
   ],
   "source": [
    "# Random 하게 답 index 지정\n",
    "# (2,0,0)인 경우 각 열의 2,0,0번째 값이 답이 된다\n",
    "y = torch.randint(5,(3,)).long()\n",
    "print(y)"
   ]
  },
  {
   "cell_type": "code",
   "execution_count": 45,
   "metadata": {},
   "outputs": [
    {
     "name": "stdout",
     "output_type": "stream",
     "text": [
      "y.squeeze(1) \n",
      " tensor([[2],\n",
      "        [0],\n",
      "        [0]])\n",
      "\n",
      "y_one_hot.scatter_(): \n",
      " tensor([[0., 0., 1., 0., 0.],\n",
      "        [1., 0., 0., 0., 0.],\n",
      "        [1., 0., 0., 0., 0.]])\n",
      "\n",
      "y: \n",
      " tensor([2, 0, 0])\n"
     ]
    },
    {
     "data": {
      "text/plain": [
       "tensor([[0., 0., 1., 0., 0.],\n",
       "        [1., 0., 0., 0., 0.],\n",
       "        [1., 0., 0., 0., 0.]])"
      ]
     },
     "execution_count": 45,
     "metadata": {},
     "output_type": "execute_result"
    }
   ],
   "source": [
    "y_one_hot = torch.zeros_like(hypothesis) #(3,5), hypothesis와 같은 크기의 0으로 이루어진 matrix 생성\n",
    "print('y.squeeze(1) \\n', y.unsqueeze(1))\n",
    "print('\\ny_one_hot.scatter_(): \\n', y_one_hot.scatter_(1,y.unsqueeze(1),1))\n",
    "print('\\ny: \\n', y)\n",
    "\n",
    "# y_one_hot 함수에 차원 1의 index, 즉 y.unsqueeze(1)위치에 값 1이 들어간다.\n",
    "# unsqueeze를 하는 이유는 차원을 맞춰주기 위해서\n",
    "y_one_hot.scatter_(1, y.unsqueeze(1),1) # y size: (3,) -> y.unsqueeze(1) size: (3,1)\n",
    "# scatter 값을 넣으면 새롭게 메모리 할당하는 것이 아닌 교체된 값이 들어간다."
   ]
  },
  {
   "cell_type": "code",
   "execution_count": 63,
   "metadata": {},
   "outputs": [
    {
     "name": "stdout",
     "output_type": "stream",
     "text": [
      "y_one_hot = \n",
      " tensor([[0., 0., 1., 0., 0.],\n",
      "        [1., 0., 0., 0., 0.],\n",
      "        [1., 0., 0., 0., 0.]])\n",
      "\n",
      "-torch.log(hypothesis) = \n",
      " tensor([[1.7935, 1.6760, 1.7504, 1.3114, 1.5929],\n",
      "        [1.6086, 1.7244, 1.5062, 1.6381, 1.5826],\n",
      "        [1.7096, 1.4354, 1.4617, 2.2223, 1.4236]], grad_fn=<NegBackward0>)\n",
      "\n",
      "-torch.log(hypothesis)).sum(dim=1) = \n",
      " tensor([8.1241, 8.0598, 8.2526], grad_fn=<NegBackward0>)\n",
      "\n",
      "-torch.log(hypothesis).sum(dim=1).shape\n",
      " torch.Size([3])\n",
      "\n",
      "-torch.log(hypothesis)).sum(dim=1).mean() = \n",
      " tensor(8.1455, grad_fn=<NegBackward0>)\n",
      "\n",
      "cost =  tensor(1.6895, grad_fn=<MeanBackward0>)\n"
     ]
    }
   ],
   "source": [
    "print('y_one_hot = \\n',y_one_hot)\n",
    "\n",
    "print('\\n-torch.log(hypothesis) = \\n', -torch.log(hypothesis))\n",
    "\n",
    "print('\\n-torch.log(hypothesis)).sum(dim=1) = \\n'\n",
    "      , -torch.log(hypothesis).sum(dim=1))\n",
    "\n",
    "print('\\n-torch.log(hypothesis).sum(dim=1).shape\\n'\n",
    "      ,torch.log(hypothesis).sum(dim=1).shape)\n",
    "\n",
    "print('\\n-torch.log(hypothesis)).sum(dim=1).mean() = \\n'\n",
    "      , -torch.log(hypothesis).sum(dim=1).mean())\n",
    "\n",
    "cost = (y_one_hot * -torch.log(hypothesis)).sum(dim=1).mean()\n",
    "print('\\ncost = ' ,cost)"
   ]
  },
  {
   "cell_type": "code",
   "execution_count": 40,
   "metadata": {},
   "outputs": [
    {
     "name": "stdout",
     "output_type": "stream",
     "text": [
      "tensor([[ 1,  2,  3,  4,  5],\n",
      "        [ 6,  7,  8,  9, 10]])\n",
      "tensor([[0, 1, 2, 0, 2]])\n"
     ]
    },
    {
     "data": {
      "text/plain": [
       "tensor([[1, 0, 0, 4, 0],\n",
       "        [0, 2, 0, 0, 0],\n",
       "        [0, 0, 3, 0, 5]])"
      ]
     },
     "execution_count": 40,
     "metadata": {},
     "output_type": "execute_result"
    }
   ],
   "source": [
    "src = torch.arange(1, 11).reshape((2, 5))\n",
    "print(src)\n",
    "index = torch.tensor([[0, 1, 2, 0, 2]])\n",
    "print(index)\n",
    "torch.zeros(3, 5, dtype=src.dtype).scatter_(0, index, src)"
   ]
  },
  {
   "cell_type": "code",
   "execution_count": 44,
   "metadata": {},
   "outputs": [
    {
     "data": {
      "text/plain": [
       "tensor([[ 1,  2,  3,  4,  5],\n",
       "        [ 6,  7,  8,  9, 10],\n",
       "        [11, 12, 13, 14, 15]])"
      ]
     },
     "execution_count": 44,
     "metadata": {},
     "output_type": "execute_result"
    }
   ],
   "source": [
    "src = torch.arange(1, 16).reshape((3, 5))\n",
    "index = torch.tensor([[0, 1, 2,3,4], [0, 1, 2,3,4],[0,1,2,3,4]])\n",
    "torch.zeros(3, 5, dtype=src.dtype).scatter_(1, index, src)"
   ]
  },
  {
   "cell_type": "markdown",
   "metadata": {},
   "source": [
    "## Cross-entropy Loss with torch.nn.functional"
   ]
  },
  {
   "cell_type": "code",
   "execution_count": 65,
   "metadata": {},
   "outputs": [
    {
     "data": {
      "text/plain": [
       "tensor([[-1.7935, -1.6760, -1.7504, -1.3114, -1.5929],\n",
       "        [-1.6086, -1.7244, -1.5062, -1.6381, -1.5826],\n",
       "        [-1.7096, -1.4354, -1.4617, -2.2223, -1.4236]], grad_fn=<LogBackward0>)"
      ]
     },
     "execution_count": 65,
     "metadata": {},
     "output_type": "execute_result"
    }
   ],
   "source": [
    "# Low level\n",
    "torch.log(F.softmax(z,dim = 1))"
   ]
  },
  {
   "cell_type": "code",
   "execution_count": 67,
   "metadata": {},
   "outputs": [
    {
     "data": {
      "text/plain": [
       "tensor([[-1.7935, -1.6760, -1.7504, -1.3114, -1.5929],\n",
       "        [-1.6086, -1.7244, -1.5062, -1.6381, -1.5826],\n",
       "        [-1.7096, -1.4354, -1.4617, -2.2223, -1.4236]],\n",
       "       grad_fn=<LogSoftmaxBackward0>)"
      ]
     },
     "execution_count": 67,
     "metadata": {},
     "output_type": "execute_result"
    }
   ],
   "source": [
    "# High level\n",
    "F.log_softmax(z,dim=1)"
   ]
  },
  {
   "cell_type": "code",
   "execution_count": 70,
   "metadata": {},
   "outputs": [
    {
     "name": "stdout",
     "output_type": "stream",
     "text": [
      "tensor(1.6895, grad_fn=<MeanBackward0>)\n",
      "tensor(1.6895, grad_fn=<NllLossBackward0>)\n"
     ]
    }
   ],
   "source": [
    "# low level\n",
    "cost = (y_one_hot * -torch.log(hypothesis)).sum(dim=1).mean()\n",
    "print(cost)\n",
    "\n",
    "# high level (NLL = Negative Log Likelihood)\n",
    "cost = F.nll_loss(F.log_softmax(z, dim = 1), y)\n",
    "print(cost)"
   ]
  },
  {
   "cell_type": "markdown",
   "metadata": {},
   "source": [
    "PyTorch also has `F.cross_entropy` that combines `F.log_softmax()` and `F.nll_loss()``"
   ]
  },
  {
   "cell_type": "code",
   "execution_count": 71,
   "metadata": {},
   "outputs": [
    {
     "data": {
      "text/plain": [
       "tensor(1.6895, grad_fn=<NllLossBackward0>)"
      ]
     },
     "execution_count": 71,
     "metadata": {},
     "output_type": "execute_result"
    }
   ],
   "source": [
    "F.cross_entropy(z,y)"
   ]
  },
  {
   "cell_type": "markdown",
   "metadata": {},
   "source": [
    "## Training with Low-level Cross Entropy Loss"
   ]
  },
  {
   "cell_type": "code",
   "execution_count": 93,
   "metadata": {},
   "outputs": [
    {
     "name": "stdout",
     "output_type": "stream",
     "text": [
      "torch.Size([8, 4])\n",
      "torch.Size([8])\n"
     ]
    }
   ],
   "source": [
    "x_train = [[1,2,1,1],\n",
    "           [2,1,3,2],\n",
    "           [3,1,3,4],\n",
    "           [4,1,5,5],\n",
    "           [1,7,5,5],\n",
    "           [1,2,5,6],\n",
    "           [1,6,6,6],\n",
    "           [1,7,7,7]] # size: (m,4)\n",
    "y_train = [2,2,2,1,1,1,0,0] # size: (m,)\n",
    "x_train = torch.FloatTensor(x_train)\n",
    "y_train = torch.LongTensor(y_train) # discrete 하므로 long tensor 로 표현\n",
    "\n",
    "print(x_train.shape)\n",
    "print(y_train.shape)"
   ]
  },
  {
   "cell_type": "code",
   "execution_count": 75,
   "metadata": {},
   "outputs": [
    {
     "name": "stdout",
     "output_type": "stream",
     "text": [
      "Epoch    0/10000 cost: 1.098612\n",
      "Epoch  100/10000 cost: 1.036919\n",
      "Epoch  200/10000 cost: 1.010905\n",
      "Epoch  300/10000 cost: 0.991541\n",
      "Epoch  400/10000 cost: 0.974942\n",
      "Epoch  500/10000 cost: 0.959928\n",
      "Epoch  600/10000 cost: 0.946149\n",
      "Epoch  700/10000 cost: 0.933492\n",
      "Epoch  800/10000 cost: 0.921898\n",
      "Epoch  900/10000 cost: 0.911302\n",
      "Epoch 1000/10000 cost: 0.901625\n",
      "Epoch 1100/10000 cost: 0.892785\n",
      "Epoch 1200/10000 cost: 0.884700\n",
      "Epoch 1300/10000 cost: 0.877291\n",
      "Epoch 1400/10000 cost: 0.870486\n",
      "Epoch 1500/10000 cost: 0.864220\n",
      "Epoch 1600/10000 cost: 0.858436\n",
      "Epoch 1700/10000 cost: 0.853084\n",
      "Epoch 1800/10000 cost: 0.848117\n",
      "Epoch 1900/10000 cost: 0.843497\n",
      "Epoch 2000/10000 cost: 0.839189\n",
      "Epoch 2100/10000 cost: 0.835160\n",
      "Epoch 2200/10000 cost: 0.831385\n",
      "Epoch 2300/10000 cost: 0.827838\n",
      "Epoch 2400/10000 cost: 0.824499\n",
      "Epoch 2500/10000 cost: 0.821348\n",
      "Epoch 2600/10000 cost: 0.818368\n",
      "Epoch 2700/10000 cost: 0.815545\n",
      "Epoch 2800/10000 cost: 0.812865\n",
      "Epoch 2900/10000 cost: 0.810315\n",
      "Epoch 3000/10000 cost: 0.807886\n",
      "Epoch 3100/10000 cost: 0.805568\n",
      "Epoch 3200/10000 cost: 0.803352\n",
      "Epoch 3300/10000 cost: 0.801230\n",
      "Epoch 3400/10000 cost: 0.799196\n",
      "Epoch 3500/10000 cost: 0.797243\n",
      "Epoch 3600/10000 cost: 0.795366\n",
      "Epoch 3700/10000 cost: 0.793560\n",
      "Epoch 3800/10000 cost: 0.791819\n",
      "Epoch 3900/10000 cost: 0.790141\n",
      "Epoch 4000/10000 cost: 0.788520\n",
      "Epoch 4100/10000 cost: 0.786954\n",
      "Epoch 4200/10000 cost: 0.785439\n",
      "Epoch 4300/10000 cost: 0.783973\n",
      "Epoch 4400/10000 cost: 0.782552\n",
      "Epoch 4500/10000 cost: 0.781174\n",
      "Epoch 4600/10000 cost: 0.779838\n",
      "Epoch 4700/10000 cost: 0.778541\n",
      "Epoch 4800/10000 cost: 0.777280\n",
      "Epoch 4900/10000 cost: 0.776055\n",
      "Epoch 5000/10000 cost: 0.774863\n",
      "Epoch 5100/10000 cost: 0.773703\n",
      "Epoch 5200/10000 cost: 0.772573\n",
      "Epoch 5300/10000 cost: 0.771472\n",
      "Epoch 5400/10000 cost: 0.770400\n",
      "Epoch 5500/10000 cost: 0.769354\n",
      "Epoch 5600/10000 cost: 0.768333\n",
      "Epoch 5700/10000 cost: 0.767337\n",
      "Epoch 5800/10000 cost: 0.766364\n",
      "Epoch 5900/10000 cost: 0.765414\n",
      "Epoch 6000/10000 cost: 0.764485\n",
      "Epoch 6100/10000 cost: 0.763577\n",
      "Epoch 6200/10000 cost: 0.762689\n",
      "Epoch 6300/10000 cost: 0.761820\n",
      "Epoch 6400/10000 cost: 0.760970\n",
      "Epoch 6500/10000 cost: 0.760138\n",
      "Epoch 6600/10000 cost: 0.759323\n",
      "Epoch 6700/10000 cost: 0.758525\n",
      "Epoch 6800/10000 cost: 0.757742\n",
      "Epoch 6900/10000 cost: 0.756975\n",
      "Epoch 7000/10000 cost: 0.756223\n",
      "Epoch 7100/10000 cost: 0.755486\n",
      "Epoch 7200/10000 cost: 0.754762\n",
      "Epoch 7300/10000 cost: 0.754052\n",
      "Epoch 7400/10000 cost: 0.753355\n",
      "Epoch 7500/10000 cost: 0.752671\n",
      "Epoch 7600/10000 cost: 0.751999\n",
      "Epoch 7700/10000 cost: 0.751339\n",
      "Epoch 7800/10000 cost: 0.750691\n",
      "Epoch 7900/10000 cost: 0.750054\n",
      "Epoch 8000/10000 cost: 0.749427\n",
      "Epoch 8100/10000 cost: 0.748812\n",
      "Epoch 8200/10000 cost: 0.748206\n",
      "Epoch 8300/10000 cost: 0.747610\n",
      "Epoch 8400/10000 cost: 0.747024\n",
      "Epoch 8500/10000 cost: 0.746448\n",
      "Epoch 8600/10000 cost: 0.745880\n",
      "Epoch 8700/10000 cost: 0.745322\n",
      "Epoch 8800/10000 cost: 0.744772\n",
      "Epoch 8900/10000 cost: 0.744231\n",
      "Epoch 9000/10000 cost: 0.743697\n",
      "Epoch 9100/10000 cost: 0.743172\n",
      "Epoch 9200/10000 cost: 0.742655\n",
      "Epoch 9300/10000 cost: 0.742145\n",
      "Epoch 9400/10000 cost: 0.741642\n",
      "Epoch 9500/10000 cost: 0.741147\n",
      "Epoch 9600/10000 cost: 0.740659\n",
      "Epoch 9700/10000 cost: 0.740177\n",
      "Epoch 9800/10000 cost: 0.739703\n",
      "Epoch 9900/10000 cost: 0.739235\n",
      "Epoch 10000/10000 cost: 0.738773\n"
     ]
    }
   ],
   "source": [
    "# 초기화\n",
    "W = torch.zeros((4,3), requires_grad=True)\n",
    "b = torch.zeros(1, requires_grad=True)\n",
    "\n",
    "# Optimizer 설정\n",
    "optimizer = optim.SGD([W,b], lr = 0.01)\n",
    "\n",
    "# nb_epochs\n",
    "nb_epochs = 10000\n",
    "\n",
    "for epoch in range(nb_epochs +1):\n",
    "\n",
    "    # Cost 계산\n",
    "    hypothesis = F.softmax(x_train.matmul(W) + b, dim = 1) # or .mm or @\n",
    "    y_one_hot = torch.zeros_like(hypothesis)\n",
    "    y_one_hot.scatter_(1, y_train.unsqueeze(1),1)\n",
    "    cost = (y_one_hot * -torch.log(F.softmax(hypothesis, dim = 1))).sum(dim = 1).mean()\n",
    "\n",
    "    # cost로 H(x) 개선\n",
    "    optimizer.zero_grad()\n",
    "    cost.backward()\n",
    "    optimizer.step()\n",
    "\n",
    "    # 100번마다 로그 출력\n",
    "    if epoch % 100 == 0:\n",
    "        print('Epoch {:4d}/{} cost: {:.6f}'.format(\n",
    "            epoch, nb_epochs, cost.item()))"
   ]
  },
  {
   "cell_type": "markdown",
   "metadata": {},
   "source": [
    "## Training with F.cross_entropy"
   ]
  },
  {
   "cell_type": "code",
   "execution_count": 77,
   "metadata": {},
   "outputs": [
    {
     "name": "stdout",
     "output_type": "stream",
     "text": [
      "Epoch    0/1000 cost: 1.098612\n",
      "Epoch  100/1000 cost: 0.850816\n",
      "Epoch  200/1000 cost: 0.784908\n",
      "Epoch  300/1000 cost: 0.744590\n",
      "Epoch  400/1000 cost: 0.714646\n",
      "Epoch  500/1000 cost: 0.690688\n",
      "Epoch  600/1000 cost: 0.670780\n",
      "Epoch  700/1000 cost: 0.653828\n",
      "Epoch  800/1000 cost: 0.639125\n",
      "Epoch  900/1000 cost: 0.626180\n",
      "Epoch 1000/1000 cost: 0.614641\n"
     ]
    }
   ],
   "source": [
    "# 초기화\n",
    "W = torch.zeros((4,3), requires_grad=True)\n",
    "b = torch.zeros(1, requires_grad=True)\n",
    "\n",
    "# Optimizer 설정\n",
    "optimizer = optim.SGD([W,b], lr = 0.01)\n",
    "\n",
    "# nb_epochs\n",
    "nb_epochs = 1000\n",
    "\n",
    "for epoch in range(nb_epochs +1):\n",
    "\n",
    "    # H(x)\n",
    "    z = x_train.matmul(W) + b\n",
    "    \n",
    "    # Cost 계산\n",
    "    cost = F.cross_entropy(z, y_train)\n",
    "\n",
    "    # cost로 H(x) 개선\n",
    "    optimizer.zero_grad()\n",
    "    cost.backward()\n",
    "    optimizer.step()\n",
    "\n",
    "    # 100번마다 로그 출력\n",
    "    if epoch % 100 == 0:\n",
    "        print('Epoch {:4d}/{} cost: {:.6f}'.format(\n",
    "            epoch, nb_epochs, cost.item()))"
   ]
  },
  {
   "cell_type": "markdown",
   "metadata": {},
   "source": [
    "## High-level Implementation with nn.Module"
   ]
  },
  {
   "cell_type": "code",
   "execution_count": 94,
   "metadata": {},
   "outputs": [],
   "source": [
    "class SoftmaxClassifierModel(nn.Module):\n",
    "    def __init__(self):\n",
    "        super().__init__()\n",
    "        self.linear = nn.Linear(4,3) # Output이 3, 3개의 class 에 대한 확률값 return\n",
    "\n",
    "    def forward(self,x):\n",
    "        return self.linear(x) # |x| = (m,4) -> |linear(4,3)|= (m,3)"
   ]
  },
  {
   "cell_type": "code",
   "execution_count": 95,
   "metadata": {},
   "outputs": [],
   "source": [
    "model = SoftmaxClassifierModel()"
   ]
  },
  {
   "cell_type": "code",
   "execution_count": 96,
   "metadata": {},
   "outputs": [
    {
     "name": "stdout",
     "output_type": "stream",
     "text": [
      "Epoch    0/1000 cost: 2.251004\n",
      "Epoch  100/1000 cost: 0.771897\n",
      "Epoch  200/1000 cost: 0.687554\n",
      "Epoch  300/1000 cost: 0.644173\n",
      "Epoch  400/1000 cost: 0.613487\n",
      "Epoch  500/1000 cost: 0.589456\n",
      "Epoch  600/1000 cost: 0.569720\n",
      "Epoch  700/1000 cost: 0.553035\n",
      "Epoch  800/1000 cost: 0.538632\n",
      "Epoch  900/1000 cost: 0.525991\n",
      "Epoch 1000/1000 cost: 0.514744\n"
     ]
    }
   ],
   "source": [
    "# Optimizer 설정\n",
    "optimizer = optim.SGD(model.parameters(), lr = 0.01) # linear layer가 한 개 들어있음\n",
    "\n",
    "# nb_epochs\n",
    "nb_epochs = 1000\n",
    "\n",
    "for epoch in range(nb_epochs +1):\n",
    "\n",
    "    # H(x)\n",
    "    prediction = model(x_train)\n",
    "    \n",
    "    # Cost 계산\n",
    "    cost = F.cross_entropy(prediction, y_train)\n",
    "\n",
    "    # cost로 H(x) 개선\n",
    "    optimizer.zero_grad()\n",
    "    cost.backward()\n",
    "    optimizer.step()\n",
    "\n",
    "    # 100번마다 로그 출력\n",
    "    if epoch % 100 == 0:\n",
    "        print('Epoch {:4d}/{} cost: {:.6f}'.format(\n",
    "            epoch, nb_epochs, cost.item()))"
   ]
  },
  {
   "cell_type": "markdown",
   "metadata": {},
   "source": [
    "### Binary 뷴류 문제의 경우\n",
    "\n",
    "### Binary Cross Entropy, 즉 Sigmoid를 사용하는 것이 맞고,\n",
    "\n",
    "### 다중 분류 문제의 경우\n",
    "\n",
    "### Cross Entropy, 즉 Softmax를 사용하는 것이 맞다."
   ]
  }
 ],
 "metadata": {
  "kernelspec": {
   "display_name": "Python 3",
   "language": "python",
   "name": "python3"
  },
  "language_info": {
   "codemirror_mode": {
    "name": "ipython",
    "version": 3
   },
   "file_extension": ".py",
   "mimetype": "text/x-python",
   "name": "python",
   "nbconvert_exporter": "python",
   "pygments_lexer": "ipython3",
   "version": "3.8.18"
  }
 },
 "nbformat": 4,
 "nbformat_minor": 2
}
